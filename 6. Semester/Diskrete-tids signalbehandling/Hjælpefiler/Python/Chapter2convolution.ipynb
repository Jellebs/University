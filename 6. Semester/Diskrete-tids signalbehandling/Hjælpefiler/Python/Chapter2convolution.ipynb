{
 "cells": [
  {
   "cell_type": "code",
   "execution_count": 1,
   "metadata": {},
   "outputs": [],
   "source": [
    "import numpy as np\n",
    "from scipy import signal\n",
    "import matplotlib.pyplot as plt\n",
    "\n",
    "# numpy also has a convolution"
   ]
  },
  {
   "cell_type": "code",
   "execution_count": null,
   "metadata": {},
   "outputs": [],
   "source": []
  },
  {
   "cell_type": "markdown",
   "metadata": {},
   "source": [
    "The example from the book (2.38) with $x[n]= \\{ \\underset{\\uparrow}{1}, \\; 2, \\; 3, \\; 4, \\; 5 \\} $ and \n",
    " $h[n]= \\{ -1,\\; \\underset{\\uparrow}{2}, \\; 1  \\} $\n",
    " \n",
    "Note: Python doesn't keep track of causal/noncausul elements. We need to do this ourself. Essentially Python just starts each array at zero. See figure 2.20 in the textbook for the MATLAB version of keeping track.\n",
    "\n",
    "\n"
   ]
  },
  {
   "cell_type": "code",
   "execution_count": 2,
   "metadata": {},
   "outputs": [
    {
     "name": "stdout",
     "output_type": "stream",
     "text": [
      "x[n]= [1. 2. 3. 4. 5.]\n",
      "h[n]= [-1.  2.  1.]\n",
      "y[n]= [-1.  0.  2.  4.  6. 14.  5.]\n"
     ]
    }
   ],
   "source": [
    "x=np.array([1.0, 2.0, 3.0, 4.0, 5.0])\n",
    "h=np.array([-1.0, 2.0, 1])\n",
    "\n",
    "y=signal.convolve(x,h)\n",
    "\n",
    "print('x[n]=',x)\n",
    "print('h[n]=',h)\n",
    "print('y[n]=',y)"
   ]
  },
  {
   "cell_type": "code",
   "execution_count": null,
   "metadata": {},
   "outputs": [
    {
     "name": "stdout",
     "output_type": "stream",
     "text": [
      "[1. 3. 3.]\n",
      "[0. 1. 0. 0. 0.]\n",
      "xhfull= [0. 1. 3. 3. 0. 0. 0.]\n",
      "xhsame= [3. 3. 0.]\n"
     ]
    }
   ],
   "source": [
    "x=np.array([1.0, 3.0, 3.0])\n",
    "h=np.array([0.0, 1.0, 0.0, 0.0, 0.0])\n",
    "\n",
    "print(x)\n",
    "print(h)\n",
    "h.shape\n",
    "\n",
    "xhfull=signal.convolve(x,h, 'full')\n",
    "xhsame=signal.convolve(x,h, 'same') # output has same length as input 1\n",
    "print('xhfull=',xhfull)\n",
    "print('xhsame=',xhsame)"
   ]
  }
 ],
 "metadata": {
  "kernelspec": {
   "display_name": "Python 3",
   "language": "python",
   "name": "python3"
  },
  "language_info": {
   "codemirror_mode": {
    "name": "ipython",
    "version": 3
   },
   "file_extension": ".py",
   "mimetype": "text/x-python",
   "name": "python",
   "nbconvert_exporter": "python",
   "pygments_lexer": "ipython3",
   "version": "3.12.4"
  }
 },
 "nbformat": 4,
 "nbformat_minor": 4
}
