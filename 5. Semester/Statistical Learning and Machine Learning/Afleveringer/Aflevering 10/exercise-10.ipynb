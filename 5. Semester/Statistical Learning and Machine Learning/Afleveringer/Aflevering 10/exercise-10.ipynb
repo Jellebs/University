{
 "cells": [
  {
   "cell_type": "markdown",
   "metadata": {},
   "source": [
    "# Dependencies"
   ]
  },
  {
   "cell_type": "code",
   "execution_count": 1,
   "metadata": {},
   "outputs": [],
   "source": [
    "import numpy as np\n",
    "np.set_printoptions(5)\n",
    "\n",
    "def result(resultat): \n",
    "    \n",
    "    print(\"=\"*80)\n",
    "    print(resultat)\n",
    "    print(\"=\"*80)\n"
   ]
  },
  {
   "cell_type": "markdown",
   "metadata": {},
   "source": [
    "# Week 10 - Neural Networks\n",
    "\n",
    "Learning contents:\n",
    "1. Detailed example: Two-layer MLP for regression\n",
    "    - Forward pass: Calculate the values of $z_1$, $z_2$, and $y$\n",
    "    - Compute the mean squared error\n",
    "    - Using backpropagation, compute the gradient or the error w.r.t the weights $w^{(2)}_2$ and $w^{(1)}_{2,2}$ \n",
    "    - Compute the updated weights for $w^{(2)}_2$ and $w^{(1)}_{2,2}$ \n",
    "2. PyTorch: 2-layer MLP for classification\n",
    "    - Create and train a 2-layer MLP"
   ]
  },
  {
   "cell_type": "markdown",
   "metadata": {},
   "source": [
    "# 1) Detailed example: Two-layer MLP for regression\n",
    "We'll be working through a forward and back-propagation example in all its details for a 2-layer MLP for regression. Our network has the following structure:\n",
    "\n",
    "![](two-layer-nn.svg)\n",
    "\n",
    "Where \n",
    "    $$\n",
    "    z_j = \\text{ReLU}\\left(a_j \\right)\n",
    "    \\qquad\n",
    "    a_j = \\sum_i w^{(1)}_{ij} x_i\n",
    "    \\qquad\n",
    "    y_j = \\sum_i w^{(2)}_{ij} z_i\n",
    "    $$\n",
    "and the biases \n",
    "    $$\n",
    "    x_0 = z_0 = 1\n",
    "    $$\n",
    "\n",
    "Suppose, we have the weights\n",
    "    $$\n",
    "    \\mathbf{W}^{(1)} = \\left[ \n",
    "        \\begin{matrix}\n",
    "        0.1 & 0.2\\\\\n",
    "        -1.1 & 1.2\\\\\n",
    "        -2.1 & 2.2\n",
    "        \\end{matrix}\n",
    "    \\right]\n",
    "    \\qquad\n",
    "    \\mathbf{w}^{(2)} = \\left[ \n",
    "        \\begin{matrix}\n",
    "        -0.1\\\\\n",
    "        1.1 \\\\\n",
    "        2.2\n",
    "        \\end{matrix}\n",
    "    \\right]\n",
    "    $$\n",
    "Notice that the bias weights are included in the weight matrix. Relating it to the drawing, we have $w_{0,1} = 0.1$, $w_{1,2} = 1.2$\n",
    "\n",
    "Moreover, we are given an input\n",
    "    $$\n",
    "    \\mathbf{x} = \\left[ \n",
    "        \\begin{matrix}\n",
    "        0.1 \\\\\n",
    "        0.2\n",
    "        \\end{matrix}\n",
    "    \\right]\n",
    "    $$\n",
    "    \n",
    "Relating these to the drawing, we have $w^{(1)}_{1,2} = 1.2$ and $x_1 = 0.1$"
   ]
  },
  {
   "cell_type": "markdown",
   "metadata": {
    "tags": []
   },
   "source": [
    "## 1.1) Forward pass: Calculate the values of $z_1$, $z_2$, and $y$"
   ]
  },
  {
   "cell_type": "markdown",
   "metadata": {},
   "source": [
    "Use the values and formulas given above, as well as information about the ReLU activation function given in lecture 19 sldie 9 to determine the values. "
   ]
  },
  {
   "cell_type": "code",
   "execution_count": 2,
   "metadata": {},
   "outputs": [
    {
     "name": "stdout",
     "output_type": "stream",
     "text": [
      "[-0.43  0.76]\n",
      "================================================================================\n",
      "z1 = 0.0,\n",
      "z2 = 0.7600000000000001,\n",
      "y = 1.5720000000000003\n",
      "================================================================================\n"
     ]
    }
   ],
   "source": [
    "# The activating\n",
    "a = lambda W, x : x.reshape(1, -1) @ W\n",
    "\n",
    "# Activator\n",
    "z = lambda activator, a : activator(a)\n",
    "relu         = lambda a : np.array([aj if aj > 0 else 0 for aj in a]) \n",
    "reluDiff     = lambda a : np.array([ 1 if aj > 0 else 0 for aj in a]) if type(a) == np.ndarray           else 1 if a > 0 else 0 \n",
    "identity     = lambda a : a\n",
    "identityDiff = lambda a : np.ones(a.shape)                            if type(a) == np.ndarray           else 1 \n",
    "\n",
    "\n",
    "x = np.array([[1],\n",
    "              [0.1],\n",
    "              [0.2]]) # Including bias term\n",
    "W1 = np.array([[ 0.1, 0.2], \n",
    "              [-1.1, 1.2], \n",
    "              [-2.1, 2.2]])\n",
    "w2 = np.array([[-0.1], \n",
    "               [ 1.1], \n",
    "               [ 2.2]])\n",
    "# Layer 1 \n",
    "a1s = a(W1, x)[0]\n",
    "z1s = z(relu, a1s)\n",
    "print(a1s)\n",
    "\n",
    "# Layer 2\n",
    "z1s = np.insert(z1s, 0, 1)\n",
    "a2s = a(w2, z1s)\n",
    "y = z(identity, a2s)[0][0]\n",
    "\n",
    "resultat = f\"z1 = {z1s[1]},\\nz2 = {z1s[2]},\\ny = {y}\"\n",
    "result(resultat)"
   ]
  },
  {
   "cell_type": "markdown",
   "metadata": {},
   "source": [
    "## 1.2) Compute the mean squared error\n",
    "Suppose our target $t=2$.\n",
    "Use the formula for MSE shown in lecture 19, slide 17 (8)"
   ]
  },
  {
   "cell_type": "code",
   "execution_count": 3,
   "metadata": {},
   "outputs": [
    {
     "name": "stdout",
     "output_type": "stream",
     "text": [
      "================================================================================\n",
      "E(w) = 0.09159199999999988\n",
      "================================================================================\n"
     ]
    }
   ],
   "source": [
    "error = lambda y, t : 1/2 * (np.sum([y - t]))**2\n",
    "\n",
    "t = 2\n",
    "Ew = error(y, t)\n",
    "resultat = f\"E(w) = {Ew}\"\n",
    "result(resultat)\n"
   ]
  },
  {
   "attachments": {
    "Skærmbillede 2024-11-07 kl. 14.31.57.png": {
     "image/png": "[encoded data removed]"
    }
   },
   "cell_type": "markdown",
   "metadata": {},
   "source": [
    "## 1.3) Using backpropagation, compute the gradient or the error w.r.t the weights $w^{(2)}_2$ and $w^{(1)}_{2,2}$ \n",
    "This corresponds to the bottom row of weights on the figure <br>\n",
    "To compute this, look at formulas 5.65 - 5.67 in the course book(Bishop).\n",
    "\n",
    "![Skærmbillede 2024-11-07 kl. 14.31.57.png](<attachment:Skærmbillede 2024-11-07 kl. 14.31.57.png>)"
   ]
  },
  {
   "cell_type": "code",
   "execution_count": 4,
   "metadata": {},
   "outputs": [
    {
     "name": "stdout",
     "output_type": "stream",
     "text": [
      "================================================================================\n",
      "gradients = \n",
      "[[-0.32528]\n",
      " [-0.18832]], \n",
      " from High -> Low\n",
      "================================================================================\n"
     ]
    }
   ],
   "source": [
    "errorSignal = lambda diff_activator, aj, weights, error : diff_activator(aj) * np.inner(weights, error)  # Inner is simple 1x1 multiplication for scalars.\n",
    "\n",
    "\n",
    "## Steps\n",
    "# Calculate del(En)\n",
    "# Update values\n",
    "\n",
    "# Calculate gradient of the errorfunction En with respect to the weights on its path\n",
    "\n",
    "def weightUpdate(W, eta, gradient): \n",
    "    W = W - eta * gradient\n",
    "\n",
    "# Theory. \n",
    "# The derivative of the error function w.r.t the weights wji indicating between layer i and j, is given by. \n",
    "# gammaj * zi \n",
    "# So the gradient of the error functions is found for \"an\" input, from \"an\" error signal. When looking at single paths. \n",
    "\n",
    "# Lets find the bottom and build up from there.\n",
    "#                           Layer 0                         Layer 1                             Output                                                             \n",
    "error =                                                                                         y - t\n",
    "gamma1s =                               errorSignal(reluDiff, a1s[1], w2[2], error)\n",
    "\n",
    "gammas = np.array([[  error],\n",
    "                   [gamma1s[0]]])\n",
    "\n",
    "\n",
    "zs = np.array([[z1s[2]], \n",
    "               [  x[2][0]]])\n",
    "gradient = gammas * zs \n",
    "\n",
    "resultat = f\"gradients = \\n{gradient}, \\n from High -> Low\"\n",
    "result(resultat)\n"
   ]
  },
  {
   "cell_type": "markdown",
   "metadata": {},
   "source": [
    "## 1.4) Compute the updated weights for $w^{(2)}_2$ and $w^{(1)}_{2,2}$ \n",
    "Use a learning rate $\\eta = 0.1$ \n",
    "\n",
    "You will want to use formula 5.43 in the course book to determine the updated weights\n",
    "\n"
   ]
  },
  {
   "cell_type": "code",
   "execution_count": 5,
   "metadata": {},
   "outputs": [
    {
     "name": "stdout",
     "output_type": "stream",
     "text": [
      "================================================================================\n",
      "Updated Weights: \n",
      "W1 = \n",
      "[[ 0.1      0.2    ]\n",
      " [-1.1      1.2    ]\n",
      " [-2.1      2.21883]],\n",
      "w2 = \n",
      "[[-0.1    ]\n",
      " [ 1.1    ]\n",
      " [ 2.23253]]\n",
      "================================================================================\n"
     ]
    }
   ],
   "source": [
    "learningRate = 0.1\n",
    "def weightUpdate(W, eta, gradient): \n",
    "    W -= eta * gradient\n",
    "    \n",
    "weightUpdate(W1[2, 1:], learningRate, gradient[1]) # Layer 0 <-> 1\n",
    "weightUpdate(w2[2], learningRate, gradient[0])    # Layer 1 <-> 2\n",
    "\n",
    "resultat = f\"Updated Weights: \\nW1 = \\n{W1},\\nw2 = \\n{w2}\"\n",
    "result(resultat)"
   ]
  },
  {
   "cell_type": "markdown",
   "metadata": {},
   "source": [
    "# 2) PyTorch: 2-layer MLP for classification\n",
    "Luckily, there are some nice Deep Learning libraries out there, that make working with neural networks a pleasure.\n",
    "The two most noteable are [Tensorflow](https://www.tensorflow.org) and [PyTorch](https://pytorch.org). We'll be using the latter.\n",
    "\n",
    "In order to install it in your conda environment you can use\n",
    "```pip install torch torchvision```\n",
    "\n",
    "A key feature of these libraries is that they can handle the gradient computation for you.\n",
    "Moreover, they have a lot of layer types and losses, that are easily composable to handle computation of complex neural networks.\n",
    "\n",
    "We'll be working with the classic MNIST dataset, which we can easily get via PyTorch"
   ]
  },
  {
   "cell_type": "code",
   "execution_count": 6,
   "metadata": {},
   "outputs": [],
   "source": [
    "import torch\n",
    "from torchvision import datasets, transforms\n",
    "from torch.utils.data import DataLoader\n",
    "\n",
    "transform = transforms.Compose([\n",
    "    transforms.ToTensor(),\n",
    "    transforms.Normalize((0.1307,), (0.3081,))\n",
    "])\n",
    "\n",
    "train_data = datasets.MNIST('../data', train=True, download=True, transform=transform)\n",
    "test_data = datasets.MNIST('../data', train=False, download=True, transform=transform)\n",
    "\n",
    "train_loader = DataLoader(\n",
    "    train_data,\n",
    "    batch_size = 64,\n",
    "    shuffle=True,\n",
    ")\n",
    "\n",
    "test_loader = DataLoader(\n",
    "    test_data,\n",
    "    batch_size = 64,\n",
    ")"
   ]
  },
  {
   "cell_type": "markdown",
   "metadata": {},
   "source": [
    "A few steps happened here:\n",
    "1. The dataset (train and test) was downloaded \n",
    "1. We created a `DataLoader` for each data split. Using this, we get batches of data (64 examples per batch here)\n",
    "1. We told asked for the training data to be shuffled\n",
    "\n",
    "Lets see what we get in a batch:"
   ]
  },
  {
   "cell_type": "code",
   "execution_count": 7,
   "metadata": {},
   "outputs": [
    {
     "data": {
      "text/plain": [
       "(torch.Size([64, 1, 28, 28]), torch.Size([64]))"
      ]
     },
     "execution_count": 7,
     "metadata": {},
     "output_type": "execute_result"
    }
   ],
   "source": [
    "data, targets = next(iter(train_loader))\n",
    "data.shape, targets.shape"
   ]
  },
  {
   "cell_type": "code",
   "execution_count": 8,
   "metadata": {},
   "outputs": [
    {
     "data": {
      "image/png": "[encoded data removed]",
      "text/plain": [
       "<Figure size 640x480 with 6 Axes>"
      ]
     },
     "metadata": {},
     "output_type": "display_data"
    }
   ],
   "source": [
    "import matplotlib.pyplot as plt\n",
    "\n",
    "fig = plt.figure()\n",
    "for i in range(6):\n",
    "    plt.subplot(2,3,i+1)\n",
    "    plt.tight_layout()\n",
    "    plt.imshow(data[i][0], cmap='gray', interpolation='none')\n",
    "    plt.title(\"Ground Truth: {}\".format(targets[i]))\n",
    "    plt.xticks([])\n",
    "    plt.yticks([])"
   ]
  },
  {
   "cell_type": "markdown",
   "metadata": {},
   "source": [
    "## 2.1) Create and train a 2-layer MLP\n",
    "For the network, use a single hidden layer of 512 neurons with a ReLU activation function for the first weight Linear layer. The output of the second Linear layer should be a softmax.\n",
    "\n",
    "For optimisation, use the SGD optimizer with learning rate of 0.001, and the negative log-likelihood loss.\n",
    "\n",
    "Train the network for 5 epochs on the train data, and report the prediction accuracy on the test data. You should be able to get about 90% correct.\n",
    "\n",
    "Hint: check the [PyTorch documentation](https://pytorch.org/docs/stable/index.html) for usage of the layers, optimizers and losses\n",
    "\n",
    "For this part of the exercise. You will want to replace each \"REPLACE\" with code correponding to the task described in the line above it. Such as \"#Initialise Linear Layers\", followed by \"REPLACE\", where you'd want to replace REPLACE with appropriate code for initialization of linear layers. "
   ]
  },
  {
   "cell_type": "code",
   "execution_count": 9,
   "metadata": {},
   "outputs": [],
   "source": [
    "import torch\n",
    "from torch.nn import Linear, Module\n",
    "from torch.nn.functional import relu, log_softmax, nll_loss\n",
    "from torch.optim import SGD\n",
    "from torch.utils.data import DataLoader  # Assuming train and test data are loaded via DataLoader\n",
    "\n",
    "n = 1*28*28 # Picture input size\n",
    "\n",
    "class Net(Module):\n",
    "    def __init__(self):\n",
    "        super(Net, self).__init__()\n",
    "        # Initialize Linear layers\n",
    "        self.hidden = Linear(n, 512) # 784 inputs, 512 outpus. The inputs are given due to data size. \n",
    "        self.output = Linear(512, 10)   # Assuming 10 output classes\n",
    "\n",
    "    def forward(self, x):\n",
    "        # Perform feed-forward computation step\n",
    "        # Data of size 64 * 1 * 28 * 28, indicating 64 images of grayscale with size 28x28. \n",
    "        # I don't want the data to be compressed into 64*1*28, as this wouldn't make any sense. \n",
    "        # But with 64,  1*28*28 we have 64 pictures, that we can use.\n",
    "        images = x.shape[0]\n",
    "        x = x.reshape((images, n))\n",
    "        \n",
    "        x = relu(self.hidden(x))\n",
    "        x = log_softmax(self.output(x), dim=1)  # Softmax over the output layer's 10 classes\n",
    "        return x\n",
    "\n",
    "def train(\n",
    "    model: Module, \n",
    "    train_loader: DataLoader, \n",
    "    optimizer: SGD, \n",
    "    epoch: int, \n",
    "    log_interval=50\n",
    "):\n",
    "    # Set model to train mode\n",
    "    model.train()\n",
    "    for batch_idx, (data, target) in enumerate(train_loader):\n",
    "        # Reset the gradients\n",
    "        optimizer.zero_grad()\n",
    "        \n",
    "        # Feed the data through the model\n",
    "        output = model(data)\n",
    "        \n",
    "        # Compute the negative log-likelihood loss\n",
    "        loss = nll_loss(output, target)\n",
    "        \n",
    "        # Backward propagate the gradients\n",
    "        loss.backward()\n",
    "        \n",
    "        # Perform an update step using the optimizer\n",
    "        optimizer.step()\n",
    "        \n",
    "        if batch_idx % log_interval == 0:\n",
    "            # Log (Optional)\n",
    "            print(f'Train Epoch: {epoch} [{batch_idx * len(data)}/{len(train_loader.dataset)} '\n",
    "                  f'({100. * batch_idx / len(train_loader):.0f}%)]\\tLoss: {loss.item():.6f}')\n",
    "\n",
    "\n",
    "def test(model: Module, test_loader: DataLoader):\n",
    "    # Set model to evaluation mode\n",
    "    model.eval()\n",
    "    \n",
    "    test_loss = 0\n",
    "    correct = 0\n",
    "    \n",
    "    # Don't accumulate gradients\n",
    "    with torch.no_grad():\n",
    "        for data, target in test_loader:\n",
    "            # Feed the data through the model\n",
    "            output = model(data)\n",
    "            \n",
    "            # Sum up batch loss\n",
    "            test_loss += nll_loss(output, target, reduction='sum').item()\n",
    "            \n",
    "            # Predict the class (it is the index of the max log-probability)\n",
    "            pred = output.argmax(dim=1, keepdim=True)\n",
    "            \n",
    "            # Add to the number of correct\n",
    "            correct += pred.eq(target.view_as(pred)).sum().item()\n",
    "            \n",
    "    test_loss /= len(test_loader.dataset)\n",
    "\n",
    "    # Print results\n",
    "    \n",
    "    resultat = ('\\nTest set: Average loss: {:.4f}, Accuracy: {}/{} ({:.0f}%)\\n'.format(\n",
    "        test_loss, \n",
    "        correct, \n",
    "        len(test_loader.dataset),\n",
    "        100. * correct / len(test_loader.dataset)\n",
    "    ))\n",
    "    result(resultat)\n"
   ]
  },
  {
   "cell_type": "code",
   "execution_count": 10,
   "metadata": {},
   "outputs": [
    {
     "name": "stdout",
     "output_type": "stream",
     "text": [
      "Train Epoch: 1 [0/60000 (0%)]\tLoss: 2.280001\n",
      "Train Epoch: 1 [3200/60000 (5%)]\tLoss: 2.252148\n",
      "Train Epoch: 1 [6400/60000 (11%)]\tLoss: 2.109016\n",
      "Train Epoch: 1 [9600/60000 (16%)]\tLoss: 1.990483\n",
      "Train Epoch: 1 [12800/60000 (21%)]\tLoss: 1.849723\n",
      "Train Epoch: 1 [16000/60000 (27%)]\tLoss: 1.796638\n",
      "Train Epoch: 1 [19200/60000 (32%)]\tLoss: 1.686636\n",
      "Train Epoch: 1 [22400/60000 (37%)]\tLoss: 1.678297\n",
      "Train Epoch: 1 [25600/60000 (43%)]\tLoss: 1.562889\n",
      "Train Epoch: 1 [28800/60000 (48%)]\tLoss: 1.518571\n",
      "Train Epoch: 1 [32000/60000 (53%)]\tLoss: 1.414917\n",
      "Train Epoch: 1 [35200/60000 (59%)]\tLoss: 1.432076\n",
      "Train Epoch: 1 [38400/60000 (64%)]\tLoss: 1.146972\n",
      "Train Epoch: 1 [41600/60000 (69%)]\tLoss: 1.158453\n",
      "Train Epoch: 1 [44800/60000 (75%)]\tLoss: 1.203288\n",
      "Train Epoch: 1 [48000/60000 (80%)]\tLoss: 1.171177\n",
      "Train Epoch: 1 [51200/60000 (85%)]\tLoss: 1.065943\n",
      "Train Epoch: 1 [54400/60000 (91%)]\tLoss: 1.071913\n",
      "Train Epoch: 1 [57600/60000 (96%)]\tLoss: 0.847351\n",
      "================================================================================\n",
      "\n",
      "Test set: Average loss: 0.9243, Accuracy: 8224/10000 (82%)\n",
      "\n",
      "================================================================================\n",
      "Train Epoch: 2 [0/60000 (0%)]\tLoss: 1.023197\n",
      "Train Epoch: 2 [3200/60000 (5%)]\tLoss: 0.922990\n",
      "Train Epoch: 2 [6400/60000 (11%)]\tLoss: 0.762167\n",
      "Train Epoch: 2 [9600/60000 (16%)]\tLoss: 0.949658\n",
      "Train Epoch: 2 [12800/60000 (21%)]\tLoss: 0.867541\n",
      "Train Epoch: 2 [16000/60000 (27%)]\tLoss: 0.920896\n",
      "Train Epoch: 2 [19200/60000 (32%)]\tLoss: 0.762458\n",
      "Train Epoch: 2 [22400/60000 (37%)]\tLoss: 0.763731\n",
      "Train Epoch: 2 [25600/60000 (43%)]\tLoss: 0.761411\n",
      "Train Epoch: 2 [28800/60000 (48%)]\tLoss: 0.738097\n",
      "Train Epoch: 2 [32000/60000 (53%)]\tLoss: 0.629486\n",
      "Train Epoch: 2 [35200/60000 (59%)]\tLoss: 0.659168\n",
      "Train Epoch: 2 [38400/60000 (64%)]\tLoss: 0.691818\n",
      "Train Epoch: 2 [41600/60000 (69%)]\tLoss: 0.682986\n",
      "Train Epoch: 2 [44800/60000 (75%)]\tLoss: 0.643107\n",
      "Train Epoch: 2 [48000/60000 (80%)]\tLoss: 0.692488\n",
      "Train Epoch: 2 [51200/60000 (85%)]\tLoss: 0.686718\n",
      "Train Epoch: 2 [54400/60000 (91%)]\tLoss: 0.640099\n",
      "Train Epoch: 2 [57600/60000 (96%)]\tLoss: 0.458192\n",
      "================================================================================\n",
      "\n",
      "Test set: Average loss: 0.5904, Accuracy: 8686/10000 (87%)\n",
      "\n",
      "================================================================================\n",
      "Train Epoch: 3 [0/60000 (0%)]\tLoss: 0.551155\n",
      "Train Epoch: 3 [3200/60000 (5%)]\tLoss: 0.570896\n",
      "Train Epoch: 3 [6400/60000 (11%)]\tLoss: 0.490719\n",
      "Train Epoch: 3 [9600/60000 (16%)]\tLoss: 0.482445\n",
      "Train Epoch: 3 [12800/60000 (21%)]\tLoss: 0.553315\n",
      "Train Epoch: 3 [16000/60000 (27%)]\tLoss: 0.618709\n",
      "Train Epoch: 3 [19200/60000 (32%)]\tLoss: 0.570756\n",
      "Train Epoch: 3 [22400/60000 (37%)]\tLoss: 0.486023\n",
      "Train Epoch: 3 [25600/60000 (43%)]\tLoss: 0.415174\n",
      "Train Epoch: 3 [28800/60000 (48%)]\tLoss: 0.361655\n",
      "Train Epoch: 3 [32000/60000 (53%)]\tLoss: 0.521428\n",
      "Train Epoch: 3 [35200/60000 (59%)]\tLoss: 0.510066\n",
      "Train Epoch: 3 [38400/60000 (64%)]\tLoss: 0.375282\n",
      "Train Epoch: 3 [41600/60000 (69%)]\tLoss: 0.484530\n",
      "Train Epoch: 3 [44800/60000 (75%)]\tLoss: 0.531662\n",
      "Train Epoch: 3 [48000/60000 (80%)]\tLoss: 0.545473\n",
      "Train Epoch: 3 [51200/60000 (85%)]\tLoss: 0.461651\n",
      "Train Epoch: 3 [54400/60000 (91%)]\tLoss: 0.499460\n",
      "Train Epoch: 3 [57600/60000 (96%)]\tLoss: 0.505772\n",
      "================================================================================\n",
      "\n",
      "Test set: Average loss: 0.4740, Accuracy: 8865/10000 (89%)\n",
      "\n",
      "================================================================================\n",
      "Train Epoch: 4 [0/60000 (0%)]\tLoss: 0.486316\n",
      "Train Epoch: 4 [3200/60000 (5%)]\tLoss: 0.378875\n",
      "Train Epoch: 4 [6400/60000 (11%)]\tLoss: 0.616436\n",
      "Train Epoch: 4 [9600/60000 (16%)]\tLoss: 0.458880\n",
      "Train Epoch: 4 [12800/60000 (21%)]\tLoss: 0.399207\n",
      "Train Epoch: 4 [16000/60000 (27%)]\tLoss: 0.430321\n",
      "Train Epoch: 4 [19200/60000 (32%)]\tLoss: 0.546905\n",
      "Train Epoch: 4 [22400/60000 (37%)]\tLoss: 0.610264\n",
      "Train Epoch: 4 [25600/60000 (43%)]\tLoss: 0.471913\n",
      "Train Epoch: 4 [28800/60000 (48%)]\tLoss: 0.507053\n",
      "Train Epoch: 4 [32000/60000 (53%)]\tLoss: 0.455857\n",
      "Train Epoch: 4 [35200/60000 (59%)]\tLoss: 0.511084\n",
      "Train Epoch: 4 [38400/60000 (64%)]\tLoss: 0.370215\n",
      "Train Epoch: 4 [41600/60000 (69%)]\tLoss: 0.544431\n",
      "Train Epoch: 4 [44800/60000 (75%)]\tLoss: 0.433020\n",
      "Train Epoch: 4 [48000/60000 (80%)]\tLoss: 0.407700\n",
      "Train Epoch: 4 [51200/60000 (85%)]\tLoss: 0.340493\n",
      "Train Epoch: 4 [54400/60000 (91%)]\tLoss: 0.456901\n",
      "Train Epoch: 4 [57600/60000 (96%)]\tLoss: 0.337251\n",
      "================================================================================\n",
      "\n",
      "Test set: Average loss: 0.4156, Accuracy: 8955/10000 (90%)\n",
      "\n",
      "================================================================================\n",
      "Train Epoch: 5 [0/60000 (0%)]\tLoss: 0.577409\n",
      "Train Epoch: 5 [3200/60000 (5%)]\tLoss: 0.407494\n",
      "Train Epoch: 5 [6400/60000 (11%)]\tLoss: 0.451470\n",
      "Train Epoch: 5 [9600/60000 (16%)]\tLoss: 0.431851\n",
      "Train Epoch: 5 [12800/60000 (21%)]\tLoss: 0.334267\n",
      "Train Epoch: 5 [16000/60000 (27%)]\tLoss: 0.371243\n",
      "Train Epoch: 5 [19200/60000 (32%)]\tLoss: 0.358530\n",
      "Train Epoch: 5 [22400/60000 (37%)]\tLoss: 0.478804\n",
      "Train Epoch: 5 [25600/60000 (43%)]\tLoss: 0.571138\n",
      "Train Epoch: 5 [28800/60000 (48%)]\tLoss: 0.360584\n",
      "Train Epoch: 5 [32000/60000 (53%)]\tLoss: 0.282029\n",
      "Train Epoch: 5 [35200/60000 (59%)]\tLoss: 0.316766\n",
      "Train Epoch: 5 [38400/60000 (64%)]\tLoss: 0.377727\n",
      "Train Epoch: 5 [41600/60000 (69%)]\tLoss: 0.361604\n",
      "Train Epoch: 5 [44800/60000 (75%)]\tLoss: 0.431816\n",
      "Train Epoch: 5 [48000/60000 (80%)]\tLoss: 0.216224\n",
      "Train Epoch: 5 [51200/60000 (85%)]\tLoss: 0.400737\n",
      "Train Epoch: 5 [54400/60000 (91%)]\tLoss: 0.345238\n",
      "Train Epoch: 5 [57600/60000 (96%)]\tLoss: 0.323947\n",
      "================================================================================\n",
      "\n",
      "Test set: Average loss: 0.3806, Accuracy: 9019/10000 (90%)\n",
      "\n",
      "================================================================================\n"
     ]
    }
   ],
   "source": [
    "model = Net()\n",
    "optimizer = SGD(model.parameters(), lr=0.001)\n",
    "\n",
    "epochs = 5\n",
    "for epoch in range(1, epochs + 1):\n",
    "    train(model, train_loader, optimizer, epoch, log_interval=50)\n",
    "    test(model, test_loader)\n"
   ]
  }
 ],
 "metadata": {
  "kernelspec": {
   "display_name": "Python 3",
   "language": "python",
   "name": "python3"
  },
  "language_info": {
   "codemirror_mode": {
    "name": "ipython",
    "version": 3
   },
   "file_extension": ".py",
   "mimetype": "text/x-python",
   "name": "python",
   "nbconvert_exporter": "python",
   "pygments_lexer": "ipython3",
   "version": "3.12.4"
  }
 },
 "nbformat": 4,
 "nbformat_minor": 4
}
